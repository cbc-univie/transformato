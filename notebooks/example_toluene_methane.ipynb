{
 "cells": [
  {
   "cell_type": "code",
   "execution_count": null,
   "metadata": {},
   "outputs": [],
   "source": [
    "from transformato import load_config_yaml, SystemStructure, IntermediateStateFactory, ProposeMutationRoute\n",
    "from transformato.mutate import perform_mutations\n",
    "from IPython.display import SVG\n",
    "from transformato.utils import run_simulation, postprocessing\n",
    "import warnings\n",
    "warnings.filterwarnings(\"ignore\", module='parmed')\n"
   ]
  },
  {
   "cell_type": "markdown",
   "metadata": {},
   "source": [
    "## Load the yaml configuration files"
   ]
  },
  {
   "cell_type": "code",
   "execution_count": null,
   "metadata": {},
   "outputs": [],
   "source": [
    "configuration = load_config_yaml(config='toluene-methane-rsfe.yaml',\n",
    "                       input_dir='../data/', output_dir='.')"
   ]
  },
  {
   "cell_type": "markdown",
   "metadata": {},
   "source": [
    "## Let's look at some of the parameters that are defined for this transformation. This is a test case, so we run a very short sampling phase of 100,000 steps with 0.1fs dt. "
   ]
  },
  {
   "cell_type": "code",
   "execution_count": null,
   "metadata": {},
   "outputs": [],
   "source": [
    "configuration['simulation']"
   ]
  },
  {
   "cell_type": "markdown",
   "metadata": {},
   "source": [
    "## Generate structures as defined in the yaml config files and generate the mutation factory."
   ]
  },
  {
   "cell_type": "code",
   "execution_count": null,
   "metadata": {},
   "outputs": [],
   "source": [
    "s1 = SystemStructure(configuration, \"structure1\")\n",
    "s2 = SystemStructure(configuration, \"structure2\")\n",
    "s1_to_s2 = ProposeMutationRoute(s1, s2)"
   ]
  },
  {
   "cell_type": "markdown",
   "metadata": {},
   "source": [
    "## Propose a route from structure1 and structure2 to a commen core that has the same elements, but may differ in atom types, bonded parameters and charges. The commen core is highlighted in red on both structures."
   ]
  },
  {
   "cell_type": "code",
   "execution_count": null,
   "metadata": {},
   "outputs": [],
   "source": [
    "s1_to_s2.propose_common_core()"
   ]
  },
  {
   "cell_type": "markdown",
   "metadata": {},
   "source": [
    "## The common core is accepted without modificatinos and the necessary steps to reach the common core are printed"
   ]
  },
  {
   "cell_type": "code",
   "execution_count": null,
   "metadata": {},
   "outputs": [],
   "source": [
    "s1_to_s2.finish_common_core()"
   ]
  },
  {
   "cell_type": "markdown",
   "metadata": {},
   "source": [
    "## Show the common core with atom types"
   ]
  },
  {
   "cell_type": "code",
   "execution_count": null,
   "metadata": {},
   "outputs": [],
   "source": [
    "SVG(s1_to_s2.show_common_core_on_mol1())"
   ]
  },
  {
   "cell_type": "code",
   "execution_count": null,
   "metadata": {},
   "outputs": [],
   "source": [
    "SVG(s1_to_s2.show_common_core_on_mol2())"
   ]
  },
  {
   "cell_type": "markdown",
   "metadata": {},
   "source": [
    "## Generate the mutation list that is necessary to transform structure1 to the common core.\n",
    "## The intermediate states that are generated are located in different directories and can be run independently."
   ]
  },
  {
   "cell_type": "code",
   "execution_count": null,
   "metadata": {
    "scrolled": false
   },
   "outputs": [],
   "source": [
    "# generate the mutation list for the original\n",
    "mutation_list = s1_to_s2.generate_mutations_to_common_core_for_mol1()\n",
    "print(mutation_list.keys())\n",
    "i = IntermediateStateFactory(\n",
    "system=s1,\n",
    "configuration=configuration,\n",
    ")"
   ]
  },
  {
   "cell_type": "markdown",
   "metadata": {},
   "source": [
    "## Now the topologies for the alchemical states are generated. If you have a non-trivial mutation (i.e. a mutation for which the vdw potential of more than a single heavy atom will be turned-off) you should define the order in which the heavy atoms are turned off in `list_of_heavy_atoms_to_be_mutated`. It is possible to define more than a single atom to be turned off for an alchemical state by using tuple (i.e. `(11,9)`)."
   ]
  },
  {
   "cell_type": "code",
   "execution_count": null,
   "metadata": {},
   "outputs": [],
   "source": [
    "perform_mutations(configuration=configuration, \n",
    "i=i, \n",
    "mutation_list=mutation_list, \n",
    "list_of_heavy_atoms_to_be_mutated=[13, (11,9), (3,1)])"
   ]
  },
  {
   "cell_type": "markdown",
   "metadata": {},
   "source": [
    "## Congratulations! You have generated all intermediate states to generate equilibrium samples from distributions that alchemically connect the one endpoint to the common core.\n",
    "## No we need to start the sampling phase"
   ]
  },
  {
   "cell_type": "code",
   "execution_count": null,
   "metadata": {},
   "outputs": [],
   "source": [
    "run_simulation(i.output_files, engine='openMM')"
   ]
  },
  {
   "cell_type": "markdown",
   "metadata": {},
   "source": [
    "## Now let's calculate the free energy of ethane to the common core"
   ]
  },
  {
   "cell_type": "code",
   "execution_count": null,
   "metadata": {},
   "outputs": [],
   "source": [
    "ddG_openMM, dddG, f_openMM = postprocessing(\n",
    "    configuration,\n",
    "    name=\"toluene\",\n",
    "    engine=\"openMM\",\n",
    "    max_snapshots=600,\n",
    ")\n",
    "print(f'Free energy difference: {ddG_openMM} +- {dddG} [kT')\n"
   ]
  },
  {
   "cell_type": "code",
   "execution_count": null,
   "metadata": {},
   "outputs": [],
   "source": [
    "mutation_list = s1_to_s2.generate_mutations_to_common_core_for_mol2()\n",
    "print(mutation_list.keys())\n",
    "i = IntermediateStateFactory(\n",
    "system=s2,\n",
    "configuration=configuration,\n",
    ")\n",
    "perform_mutations(configuration=configuration, i=i, mutation_list=mutation_list, nr_of_mutation_steps_charge=1)\n",
    "run_simulation(i.output_files, engine='openMM')\n",
    "ddG_openMM, dddG, f_openMM = postprocessing(\n",
    "    configuration,\n",
    "    name=\"methane\",\n",
    "    engine=\"openMM\",\n",
    "    max_snapshots=600,\n",
    ")\n",
    "print(f'Free energy difference: {ddG_openMM} +- {dddG} [kT')"
   ]
  }
 ],
 "metadata": {
  "interpreter": {
   "hash": "dd5a0dcf22df92be6c9c633fcdcf24a9350dc9a62c7998cc23d584c66421663b"
  },
  "kernelspec": {
   "display_name": "Python 3.9.6 64-bit ('transformato_v2': conda)",
   "name": "python3"
  },
  "language_info": {
   "codemirror_mode": {
    "name": "ipython",
    "version": 3
   },
   "file_extension": ".py",
   "mimetype": "text/x-python",
   "name": "python",
   "nbconvert_exporter": "python",
   "pygments_lexer": "ipython3",
   "version": "3.9.6"
  }
 },
 "nbformat": 4,
 "nbformat_minor": 2
}
