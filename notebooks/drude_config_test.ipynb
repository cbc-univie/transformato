{
 "cells": [
  {
   "cell_type": "code",
   "execution_count": 1,
   "metadata": {},
   "outputs": [
    {
     "name": "stderr",
     "output_type": "stream",
     "text": [
      "/scratch/data/marvin/miniconda3/envs/fep/lib/python3.12/site-packages/tqdm/auto.py:21: TqdmWarning: IProgress not found. Please update jupyter and ipywidgets. See https://ipywidgets.readthedocs.io/en/stable/user_install.html\n",
      "  from .autonotebook import tqdm as notebook_tqdm\n"
     ]
    }
   ],
   "source": [
    "from transformato import load_config_yaml, IntermediateStateFactory, SystemStructure\n",
    "from transformato.mutate import perform_mutations, ProposeMutationRoute\n",
    "#from cairosvg import svg2png\n",
    "import glob\n",
    "import subprocess\n",
    "import os\n",
    "import warnings\n",
    "from IPython.display import SVG"
   ]
  },
  {
   "cell_type": "code",
   "execution_count": 2,
   "metadata": {},
   "outputs": [
    {
     "name": "stdout",
     "output_type": "stream",
     "text": [
      "Workload-Manager for output files set to slurm\n"
     ]
    }
   ],
   "source": [
    "input_dir = \"/site/raid5/marvin/drude_test/data/\"\n",
    "config = f\"/site/raid5/marvin/drude_test/data/config/methanol.yaml\"\n",
    "configuration = load_config_yaml(config=config, input_dir=input_dir, output_dir=\".\")\n",
    "\n",
    "configuration[\"simulation\"]\n",
    "molecule = \"methanol\"\n"
   ]
  },
  {
   "cell_type": "code",
   "execution_count": null,
   "metadata": {},
   "outputs": [],
   "source": []
  }
 ],
 "metadata": {
  "kernelspec": {
   "display_name": "fep",
   "language": "python",
   "name": "python3"
  },
  "language_info": {
   "codemirror_mode": {
    "name": "ipython",
    "version": 3
   },
   "file_extension": ".py",
   "mimetype": "text/x-python",
   "name": "python",
   "nbconvert_exporter": "python",
   "pygments_lexer": "ipython3",
   "version": "3.12.3"
  }
 },
 "nbformat": 4,
 "nbformat_minor": 2
}
