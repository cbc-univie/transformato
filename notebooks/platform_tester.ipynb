{
 "cells": [
  {
   "cell_type": "code",
   "execution_count": 3,
   "metadata": {},
   "outputs": [
    {
     "name": "stdout",
     "output_type": "stream",
     "text": [
      "Platform properties:\n",
      "DeviceIndex: 0\n",
      "DeviceName: NVIDIA GeForce RTX 2060\n",
      "OpenCLPlatformIndex: 0\n",
      "OpenCLPlatformName: NVIDIA CUDA\n",
      "Precision: mixed\n",
      "UseCpuPme: true\n",
      "DisablePmeStream: false\n"
     ]
    }
   ],
   "source": [
    "import openmm\n",
    "import openmm.app as app\n",
    "import openmm.unit as unit\n",
    "\n",
    "input_pdb = '/scratch/data/marvin/miniconda3/envs/fep/lib/python3.12/site-packages/openmm/app/data/tip3p.pdb'\n",
    "input_1 = '/scratch/data/marvin/miniconda3/envs/fep/lib/python3.12/site-packages/openmm/app/data/amber99sb.xml'\n",
    "input_2 = '/scratch/data/marvin/miniconda3/envs/fep/lib/python3.12/site-packages/openmm/app/data/tip3p.xml'\n",
    "\n",
    "\n",
    "# Create a simple system (e.g., a water box)\n",
    "pdb = app.PDBFile(input_pdb)  # Replace with your PDB file\n",
    "forcefield = app.ForceField(input_1, input_2)\n",
    "system = forcefield.createSystem(pdb.topology, nonbondedMethod=app.PME, constraints=app.HBonds)\n",
    "integrator = openmm.LangevinIntegrator(300*unit.kelvin, 1/unit.picosecond, 0.002*unit.picoseconds)\n",
    "\n",
    "# Specify the OpenCL platform and set properties\n",
    "platform_name = 'OpenCL'\n",
    "platform = openmm.Platform.getPlatformByName(platform_name)\n",
    "properties = dict(UseCpuPme='true', Precision='mixed')\n",
    "\n",
    "# Create the simulation object\n",
    "simulation = app.Simulation(pdb.topology, system, integrator, platform, properties)\n",
    "\n",
    "# Check the properties of the platform\n",
    "context = simulation.context\n",
    "platform_properties = context.getPlatform().getPropertyNames()\n",
    "\n",
    "# Print the properties and their values\n",
    "print(\"Platform properties:\")\n",
    "for prop in platform_properties:\n",
    "    try:\n",
    "        value = context.getPlatform().getPropertyValue(context, prop)\n",
    "        print(f'{prop}: {value}')\n",
    "    except Exception as e:\n",
    "        print(f'{prop}: Not available or error occurred - {str(e)}')\n"
   ]
  }
 ],
 "metadata": {
  "kernelspec": {
   "display_name": "fep",
   "language": "python",
   "name": "python3"
  },
  "language_info": {
   "codemirror_mode": {
    "name": "ipython",
    "version": 3
   },
   "file_extension": ".py",
   "mimetype": "text/x-python",
   "name": "python",
   "nbconvert_exporter": "python",
   "pygments_lexer": "ipython3",
   "version": "3.12.3"
  }
 },
 "nbformat": 4,
 "nbformat_minor": 2
}
